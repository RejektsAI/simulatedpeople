{
  "nbformat": 4,
  "nbformat_minor": 0,
  "metadata": {
    "colab": {
      "provenance": []
    },
    "kernelspec": {
      "name": "python3",
      "display_name": "Python 3"
    },
    "language_info": {
      "name": "python"
    }
  },
  "cells": [
    {
      "cell_type": "markdown",
      "source": [
        "[![Open In Colab](https://colab.research.google.com/assets/colab-badge.svg)](https://colab.research.google.com/drive/1rc7viiTCftxHnoekfXXlADuEOCsTNpOs#scrollTo=Riw2xgbChHMn)"
      ],
      "metadata": {
        "id": "Riw2xgbChHMn"
      }
    },
    {
      "cell_type": "markdown",
      "source": [
        "## Clone the repository and install the dependencies"
      ],
      "metadata": {
        "id": "TOlKHEF8doNZ"
      }
    },
    {
      "cell_type": "code",
      "execution_count": null,
      "metadata": {
        "id": "BZo394taZvcG"
      },
      "outputs": [],
      "source": [
        "!git clone https://github.com/RejektsAI/simulatedpeople.git\n",
        "!pip install openai"
      ]
    },
    {
      "cell_type": "markdown",
      "source": [
        "## Create Simulated People"
      ],
      "metadata": {
        "id": "TR4bqeOhdrnv"
      }
    },
    {
      "cell_type": "code",
      "source": [
        "from simulatedpeople.simulatedpeople import SimulatedPerson\n",
        "import time\n",
        "from google.colab import userdata\n",
        "\n",
        "api_key = userdata.get('OPENAI_API_KEY')\n",
        "\n",
        "luis = SimulatedPerson(\n",
        "    first_name=\"Luis\",\n",
        "    api_key=api_key,\n",
        "    model=\"gpt-3.5-turbo\",\n",
        "    context=\"You are Luis, Personality: ENTP. Have fun conversing.\\nALWAYS RESPOND LIKE THIS > Luis: (your response here)\"\n",
        "    )\n",
        "carolina = SimulatedPerson(\n",
        "    first_name=\"Carolina\",\n",
        "    api_key=api_key,\n",
        "    model=\"gpt-3.5-turbo\",\n",
        "    context=\"You are Carolina, Personality: ISFJ. Have fun conversing.\\nALWAYS RESPOND LIKE THIS > Carolina: (your response here)\"\n",
        "    )\n",
        "\n",
        "def typewrite(text):#Print the text in a fancy manner\n",
        "    for character in text:\n",
        "        print(character, end=\"\",flush=True)\n",
        "        time.sleep(0.07)\n",
        "    print(\"\")\n",
        "\n",
        "def respond(speaker, listener):#Get a response automatically based on their memory\n",
        "    response = speaker.get_response()\n",
        "    speaker.speak(response)#Write those words into the simulated person's memory of what they have said\n",
        "    listener.listen(response)#Write those words into the simulated person's memory of what the person they are talking to has said\n",
        "    typewrite(\"> \"+response)"
      ],
      "metadata": {
        "id": "YMUhdjIqbPlA"
      },
      "execution_count": null,
      "outputs": []
    },
    {
      "cell_type": "markdown",
      "source": [
        "## Start Simulated Conversation"
      ],
      "metadata": {
        "id": "Sfwo9MgNdyFx"
      }
    },
    {
      "cell_type": "code",
      "source": [
        "carolina.reset_memory()#Reset the memory to erase previous conversations\n",
        "luis.reset_memory()#Reset the memory to erase previous conversations\n",
        "\n",
        "starting_message = \"Carolina: Heyyy! how r uuu\"\n",
        "carolina.speak(starting_message)\n",
        "luis.listen(starting_message)\n",
        "\n",
        "typewrite(\"> \"+starting_message)\n",
        "for i in range(20):#Or you can use while True: (for an infinte loop)\n",
        "    respond(luis,carolina)\n",
        "    respond(carolina,luis)"
      ],
      "metadata": {
        "id": "c5mh5bzyd3Qd"
      },
      "execution_count": null,
      "outputs": []
    },
    {
      "cell_type": "markdown",
      "source": [
        "## Start Real Conversation With Simulated People"
      ],
      "metadata": {
        "id": "3dYIJjwNd8GX"
      }
    },
    {
      "cell_type": "code",
      "source": [
        "carolina.reset_memory()#Reset the memory to erase previous conversations\n",
        "luis.reset_memory()#Reset the memory to erase previous conversations\n",
        "\n",
        "starting_message = \"Carolina: Heyyy! how r uuu\"#Star the conversation with this message to avoid random first messages\n",
        "carolina.speak(starting_message)\n",
        "luis.listen(starting_message)\n",
        "\n",
        "typewrite(\"> \"+starting_message)\n",
        "for i in range(20):#Or you can use while True: (for an infinte loop)\n",
        "    response = \"Luis: \" + input(\"Luis: \")\n",
        "    luis.speak(response)\n",
        "    carolina.listen(response)\n",
        "    respond(carolina,luis)"
      ],
      "metadata": {
        "id": "QWxzwCaQeAc2"
      },
      "execution_count": null,
      "outputs": []
    }
  ]
}
