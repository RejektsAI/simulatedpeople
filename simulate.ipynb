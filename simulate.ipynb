{
 "cells": [
  {
   "cell_type": "markdown",
   "metadata": {},
   "source": [
    "### Create Simulated People"
   ]
  },
  {
   "cell_type": "code",
   "execution_count": null,
   "metadata": {},
   "outputs": [],
   "source": [
    "from simulatedpeople import SimulatedPerson\n",
    "import time\n",
    "\n",
    "api_key = \"<YOUR API KEY>\"\n",
    "\n",
    "luis = SimulatedPerson(\n",
    "    first_name=\"Luis\",\n",
    "    api_key=api_key,\n",
    "    model=\"gpt-3.5-turbo\",\n",
    "    context=\"You are Luis, Personality: ENTP. Have fun conversing.\\nALWAYS RESPOND LIKE THIS > Luis: (your response here)\"\n",
    "    )\n",
    "carolina = SimulatedPerson(\n",
    "    first_name=\"Carolina\",\n",
    "    api_key=api_key,\n",
    "    model=\"gpt-3.5-turbo\",\n",
    "    context=\"You are Carolina, Personality: ISFJ. Have fun conversing.\\nALWAYS RESPOND LIKE THIS > Carolina: (your response here)\"\n",
    "    )\n",
    "\n",
    "def typewrite(text):#Print the text in a fancy manner\n",
    "    for character in text:\n",
    "        print(character, end=\"\",flush=True)\n",
    "        time.sleep(0.07)\n",
    "    print(\"\")\n",
    "\n",
    "def respond(speaker, listener):#Get a response automatically based on their memory\n",
    "    response = speaker.get_response()\n",
    "    speaker.speak(response)#Write those words into the simulated person's memory of what they have said\n",
    "    listener.listen(response)#Write those words into the simulated person's memory of what the person they are talking to has said\n",
    "    typewrite(\"> \"+response)"
   ]
  },
  {
   "cell_type": "markdown",
   "metadata": {},
   "source": [
    "### Start Simulated Conversation"
   ]
  },
  {
   "cell_type": "code",
   "execution_count": null,
   "metadata": {},
   "outputs": [],
   "source": [
    "carolina.reset_memory()#Reset the memory to erase previous conversations\n",
    "luis.reset_memory()#Reset the memory to erase previous conversations\n",
    "\n",
    "starting_message = \"Carolina: Heyyy! how r uuu\"\n",
    "carolina.speak(starting_message)\n",
    "luis.listen(starting_message)\n",
    "\n",
    "typewrite(\"> \"+starting_message)\n",
    "for i in range(20):#Or you can use while True: (for an infinte loop)\n",
    "    respond(luis,carolina)\n",
    "    respond(carolina,luis)"
   ]
  },
  {
   "cell_type": "markdown",
   "metadata": {},
   "source": [
    "### Start Real Conversation With Simulated People"
   ]
  },
  {
   "cell_type": "code",
   "execution_count": null,
   "metadata": {},
   "outputs": [],
   "source": [
    "carolina.reset_memory()#Reset the memory to erase previous conversations\n",
    "luis.reset_memory()#Reset the memory to erase previous conversations\n",
    "\n",
    "starting_message = \"Carolina: Heyyy! how r uuu\"#Star the conversation with this message to avoid random first messages\n",
    "carolina.speak(starting_message)\n",
    "luis.listen(starting_message)\n",
    "\n",
    "typewrite(\"> \"+starting_message)\n",
    "for i in range(20):#Or you can use while True: (for an infinte loop)\n",
    "    response = \"Luis: \" + input(\"Luis: \")\n",
    "    luis.speak(response)\n",
    "    carolina.listen(response)\n",
    "    print(response)\n",
    "    respond(carolina,luis)"
   ]
  }
 ],
 "metadata": {
  "kernelspec": {
   "display_name": "Python 3",
   "language": "python",
   "name": "python3"
  },
  "language_info": {
   "codemirror_mode": {
    "name": "ipython",
    "version": 3
   },
   "file_extension": ".py",
   "mimetype": "text/x-python",
   "name": "python",
   "nbconvert_exporter": "python",
   "pygments_lexer": "ipython3",
   "version": "3.10.11"
  }
 },
 "nbformat": 4,
 "nbformat_minor": 2
}
