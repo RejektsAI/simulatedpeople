{
 "cells": [
  {
   "cell_type": "code",
   "execution_count": 1,
   "metadata": {},
   "outputs": [],
   "source": [
    "from simulatedpeople import SimulatedPerson\n",
    "import time\n",
    "\n",
    "api_key = \"<YOUR API KEY>\"\n",
    "\n",
    "luis = SimulatedPerson(\n",
    "    first_name=\"Luis\",\n",
    "    api_key=api_key,\n",
    "    model=\"ft:gpt-3.5-turbo-1106:personal::8iTB3WV0\",\n",
    "    context=\"Eres Luis, Personalidad: ENTP. Diviertete conversando.\\nResponde ASI SIEMPRE > Luis: (aqui va tu respuesta)\"\n",
    "    )\n",
    "carolina = SimulatedPerson(\n",
    "    first_name=\"Carolina\",\n",
    "    api_key=api_key,\n",
    "    model=\"ft:gpt-3.5-turbo-1106:rejekts:minovia100:92rEvPo3\",\n",
    "    context=\"Eres Carolina, Personalidad: ISFJ. Diviertete conversando.\\nResponde ASI SIEMPRE > Carolina: (aqui va tu respuesta)\"\n",
    "    )\n",
    "\n",
    "def typewrite(text):\n",
    "    for character in text:\n",
    "        print(character, end=\"\",flush=True)\n",
    "        time.sleep(0.07)\n",
    "    print(\"\")\n",
    "\n",
    "def respond(speaker, listener):\n",
    "    response = speaker.get_response()\n",
    "    speaker.speak(response)\n",
    "    listener.listen(response)\n",
    "    typewrite(\"> \"+response)"
   ]
  },
  {
   "cell_type": "code",
   "execution_count": 2,
   "metadata": {},
   "outputs": [],
   "source": [
    "carolina.reset_memory()\n",
    "luis.reset_memory()"
   ]
  },
  {
   "cell_type": "code",
   "execution_count": null,
   "metadata": {},
   "outputs": [],
   "source": [
    "#Automatic conversation\n",
    "starting_message = \"Carolina: Holaaa\"\n",
    "carolina.speak(starting_message)\n",
    "luis.listen(starting_message)\n",
    "\n",
    "typewrite(\"> \"+starting_message)\n",
    "for i in range(2):\n",
    "    respond(luis,carolina)\n",
    "    respond(carolina,luis)"
   ]
  },
  {
   "cell_type": "code",
   "execution_count": 6,
   "metadata": {},
   "outputs": [
    {
     "name": "stdout",
     "output_type": "stream",
     "text": [
      "> Carolina: Holaaa\n",
      "Luis: Hola guapaaa\n",
      "> Carolina: Como estas?\n",
      "Luis: Bien y tu?\n",
      "> Carolina: Eii, todo bien. Que cuentas?\n"
     ]
    }
   ],
   "source": [
    "#Manual Conversation\n",
    "starting_message = \"Carolina: Holaaa\"\n",
    "carolina.speak(starting_message)\n",
    "luis.listen(starting_message)\n",
    "\n",
    "typewrite(\"> \"+starting_message)\n",
    "for i in range(2):\n",
    "    response = \"Luis: \" + input(\"Luis: \")\n",
    "    luis.speak(response)\n",
    "    carolina.listen(response)\n",
    "    print(response)\n",
    "    respond(carolina,luis)"
   ]
  }
 ],
 "metadata": {
  "kernelspec": {
   "display_name": "Python 3",
   "language": "python",
   "name": "python3"
  },
  "language_info": {
   "codemirror_mode": {
    "name": "ipython",
    "version": 3
   },
   "file_extension": ".py",
   "mimetype": "text/x-python",
   "name": "python",
   "nbconvert_exporter": "python",
   "pygments_lexer": "ipython3",
   "version": "3.10.11"
  }
 },
 "nbformat": 4,
 "nbformat_minor": 2
}
